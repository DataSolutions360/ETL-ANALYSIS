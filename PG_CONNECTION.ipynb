{
 "cells": [
  {
   "cell_type": "code",
   "execution_count": 1,
   "metadata": {},
   "outputs": [],
   "source": [
    "import psycopg2\n",
    "import sys"
   ]
  },
  {
   "cell_type": "code",
   "execution_count": 2,
   "metadata": {},
   "outputs": [],
   "source": [
    "#Enter the values for you database connection\n",
    "dsn_database = \"movie_data\"            # e.g. \"compose\"\n",
    "dsn_hostname = \"localhost\" # e.g.: \"aws-us-east-1-portal.4.dblayer.com\"\n",
    "dsn_port = \"5432\"                 # e.g. 11101 \n",
    "dsn_uid = \"postgres\"        # e.g. \"admin\"\n",
    "dsn_pwd = \"postgres\"      # e.g. \"xxx\""
   ]
  },
  {
   "cell_type": "code",
   "execution_count": 3,
   "metadata": {},
   "outputs": [
    {
     "name": "stdout",
     "output_type": "stream",
     "text": [
      "Connected!\n"
     ]
    }
   ],
   "source": [
    "try:\n",
    "    conn_string = \"host=\"+dsn_hostname+\" port=\"+dsn_port+\" dbname=\"+dsn_database+\" user=\"+dsn_uid+\" password=\"+dsn_pwd\n",
    "    (conn_string)\n",
    "    conn=psycopg2.connect(conn_string)\n",
    "    print (\"Connected!\")\n",
    "except:\n",
    "    print (\"Unable to connect to the database.\")"
   ]
  },
  {
   "cell_type": "code",
   "execution_count": 4,
   "metadata": {},
   "outputs": [],
   "source": [
    "cursor = conn.cursor()\n",
    "cursor.execute(\"\"\"SELECT datname from pg_database\"\"\")\n",
    "rows = cursor.fetchall()"
   ]
  },
  {
   "cell_type": "code",
   "execution_count": 5,
   "metadata": {},
   "outputs": [
    {
     "name": "stdout",
     "output_type": "stream",
     "text": [
      "Show me the databases:\n",
      "    postgres\n",
      "    PH-EmployeeDB\n",
      "    template1\n",
      "    template0\n",
      "    movie_data\n",
      "    TEST_CONNECTION\n"
     ]
    }
   ],
   "source": [
    "print (\"Show me the databases:\")\n",
    "for row in rows:\n",
    "    print (\"   \", row[0])\n"
   ]
  },
  {
   "cell_type": "code",
   "execution_count": 6,
   "metadata": {},
   "outputs": [],
   "source": [
    "cursor.execute(\"DROP TABLE IF EXISTS Cars\")\n",
    "cursor.execute(\"CREATE TABLE Cars(Id INTEGER PRIMARY KEY, Name VARCHAR(20), Price INT)\")\n",
    "\n",
    "cursor.execute(\"INSERT INTO Cars VALUES(1,'Audi',52642)\")\n",
    "cursor.execute(\"INSERT INTO Cars VALUES(2,'Mercedes',57127)\")\n",
    "cursor.execute(\"INSERT INTO Cars VALUES(3,'Skoda',9000)\")\n",
    "cursor.execute(\"INSERT INTO Cars VALUES(4,'Volvo',29000)\")\n",
    "cursor.execute(\"INSERT INTO Cars VALUES(5,'Bentley',350000)\")\n",
    "cursor.execute(\"INSERT INTO Cars VALUES(6,'Citroen',21000)\")\n",
    "cursor.execute(\"INSERT INTO Cars VALUES(7,'Hummer',41400)\")\n",
    "cursor.execute(\"INSERT INTO Cars VALUES(8,'Volkswagen',21600)\")\n",
    "\n",
    "conn.commit()"
   ]
  },
  {
   "cell_type": "code",
   "execution_count": 7,
   "metadata": {},
   "outputs": [
    {
     "name": "stdout",
     "output_type": "stream",
     "text": [
      "\n",
      "Show me the databases:\n",
      "\n",
      "[(1, 'Audi', 52642),\n",
      " (2, 'Mercedes', 57127),\n",
      " (3, 'Skoda', 9000),\n",
      " (4, 'Volvo', 29000),\n",
      " (5, 'Bentley', 350000),\n",
      " (6, 'Citroen', 21000),\n",
      " (7, 'Hummer', 41400),\n",
      " (8, 'Volkswagen', 21600)]\n"
     ]
    }
   ],
   "source": [
    "cursor.execute(\"\"\"SELECT * from Cars\"\"\")\n",
    "rows = cursor.fetchall()\n",
    "\n",
    "print (\"\\nShow me the databases:\\n\")\n",
    "import pprint\n",
    "pprint.pprint(rows)"
   ]
  },
  {
   "cell_type": "code",
   "execution_count": 8,
   "metadata": {},
   "outputs": [],
   "source": [
    "conn.close()"
   ]
  }
 ],
 "metadata": {
  "kernelspec": {
   "display_name": "PythonData",
   "language": "python",
   "name": "pythondata"
  },
  "language_info": {
   "codemirror_mode": {
    "name": "ipython",
    "version": 3
   },
   "file_extension": ".py",
   "mimetype": "text/x-python",
   "name": "python",
   "nbconvert_exporter": "python",
   "pygments_lexer": "ipython3",
   "version": "3.6.13"
  }
 },
 "nbformat": 4,
 "nbformat_minor": 4
}
